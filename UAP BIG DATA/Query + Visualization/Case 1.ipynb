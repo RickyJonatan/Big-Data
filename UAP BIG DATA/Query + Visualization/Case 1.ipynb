{
 "cells": [
  {
   "cell_type": "code",
   "execution_count": null,
   "metadata": {
    "colab": {},
    "colab_type": "code",
    "id": "0VR9IoSMDiu0"
   },
   "outputs": [],
   "source": [
    "from pyspark.sql import SparkSession\n",
    "import matplotlib.pyplot as plt"
   ]
  },
  {
   "cell_type": "code",
   "execution_count": null,
   "metadata": {
    "colab": {},
    "colab_type": "code",
    "id": "5eiXpfWBDyiC"
   },
   "outputs": [],
   "source": [
    "spark = SparkSession.builder.getOrCreate()"
   ]
  },
  {
   "cell_type": "code",
   "execution_count": null,
   "metadata": {
    "colab": {},
    "colab_type": "code",
    "id": "-Qz8nX6ED540"
   },
   "outputs": [],
   "source": [
    "MsNPC = spark.read.option(\"inferSchema\",\"true\").csv(\"MsNPC.csv\", header = True)\n",
    "MsPlayer = spark.read.option(\"inferSchema\", \"true\").csv(\"MsPlayer.csv\", header = True)\n",
    "MsWeapon = spark.read.option(\"inferSchema\", \"true\").csv(\"MsWeapon.csv\", header = True)\n",
    "MsWeaponType = spark.read.option(\"inferSchema\", \"true\").csv(\"MsWeaponType.csv\", header = True)\n",
    "TransactionDetail = spark.read.option(\"inferSchema\", \"true\").csv(\"TransactionDetail.csv\", header = True)\n",
    "TransactionHeader = spark.read.option(\"inferSchema\", \"true\").csv(\"TransactionHeader.csv\", header = True)"
   ]
  },
  {
   "cell_type": "code",
   "execution_count": null,
   "metadata": {
    "colab": {},
    "colab_type": "code",
    "id": "JS0wyj2FPDBS"
   },
   "outputs": [],
   "source": [
    "MsNPC.registerTempTable(\"MsNPC\")\n",
    "MsPlayer.registerTempTable(\"MsPlayer\")\n",
    "MsWeapon.registerTempTable(\"MsWeapon\")\n",
    "MsWeaponType.registerTempTable(\"MsWeaponType\")\n",
    "TransactionDetail.registerTempTable(\"TransactionDetail\")\n",
    "TransactionHeader.registerTempTable(\"TransactionHeader\")\n"
   ]
  },
  {
   "cell_type": "code",
   "execution_count": null,
   "metadata": {},
   "outputs": [],
   "source": [
    "print(MsPlayer)"
   ]
  },
  {
   "cell_type": "code",
   "execution_count": 38,
   "metadata": {
    "colab": {},
    "colab_type": "code",
    "id": "afy-gQ54P2Cd"
   },
   "outputs": [
    {
     "name": "stdout",
     "output_type": "stream",
     "text": [
      "+------------+--------------+--------+\n",
      "|WeaponTypeId|WeaponTypename| Revenue|\n",
      "+------------+--------------+--------+\n",
      "|           5|        Scythe|22833000|\n",
      "|           1|         Sword|24300000|\n",
      "|           4|         Flail|25748000|\n",
      "|           3|           Bow|26484000|\n",
      "|           2|           Axe|36184000|\n",
      "+------------+--------------+--------+\n",
      "\n"
     ]
    }
   ],
   "source": [
    "num1 = spark.sql(\"\"\"\n",
    "SELECT WT.WeaponTypeId, WT.WeaponTypename,SUM(Weaponprice*Quantity) as Revenue \n",
    "FROM MsWeaponType WT\n",
    "JOIN MsWeapon W ON WT.WeaponTypeId = W.WeaponTypeId\n",
    "JOIN TransactionDetail TD ON W.WeaponId = TD.WeaponId\n",
    "JOIN TransactionHeader TH ON TD.TransactionId = TH.TransactionId\n",
    "GROUP BY WT.WeaponTypeId, WeaponTypeName\n",
    "ORDER BY Revenue\n",
    "\"\"\").show()"
   ]
  },
  {
   "cell_type": "code",
   "execution_count": 35,
   "metadata": {},
   "outputs": [],
   "source": [
    "num1= num1.toPandas()\n"
   ]
  },
  {
   "cell_type": "code",
   "execution_count": 36,
   "metadata": {
    "colab": {
     "base_uri": "https://localhost:8080/",
     "height": 34
    },
    "colab_type": "code",
    "id": "SSYrZ1gtjccv",
    "outputId": "07bec797-ad16-4726-a4d7-5dd0e43e1beb"
   },
   "outputs": [
    {
     "data": {
      "text/plain": [
       "pandas.core.series.Series"
      ]
     },
     "execution_count": 36,
     "metadata": {},
     "output_type": "execute_result"
    }
   ],
   "source": [
    "type(num1['Revenue'])"
   ]
  },
  {
   "cell_type": "code",
   "execution_count": 37,
   "metadata": {
    "colab": {
     "base_uri": "https://localhost:8080/",
     "height": 264
    },
    "colab_type": "code",
    "id": "uQhxFGcuWFo7",
    "outputId": "6a9ef0bc-d6d5-4c5f-adaf-c12b0161ed64"
   },
   "outputs": [
    {
     "data": {
      "image/png": "[encoded data removed]",
      "text/plain": [
       "<Figure size 432x288 with 1 Axes>"
      ]
     },
     "metadata": {},
     "output_type": "display_data"
    }
   ],
   "source": [
    "plt.title(\"Weapon Type Revenue Distribution in 2019\")\n",
    "plt.pie(num1['Revenue'], labels = num1['WeaponTypename'], autopct='%.2f%%')\n",
    "plt.show()"
   ]
  },
  {
   "cell_type": "code",
   "execution_count": 106,
   "metadata": {
    "colab": {},
    "colab_type": "code",
    "id": "HgBwW9u6jFZB"
   },
   "outputs": [],
   "source": [
    "num2 = spark.sql(\"\"\"\n",
    "   SELECT MONTH(TransactionDate) as Month, Count(DISTINCT th.PlayerId) as PlayerCount \n",
    "   FROM TransactionHeader TH\n",
    "   JOIN MsPlayer P ON th.PlayerId = P.PlayerId\n",
    "   JOIN TransactionDetail TD ON TH.TransactionId = TD.TransactionId\n",
    "   JOIN MsWeapon W ON td.WeaponId = W.WeaponId\n",
    "   WHERE YEAR(TransactionDate) = 2019 AND W.WeaponTypeId = 2 \n",
    "   GROUP BY MONTH(TransactionDate)\n",
    "   ORDER BY MONTH             \n",
    "\"\"\")"
   ]
  },
  {
   "cell_type": "code",
   "execution_count": 108,
   "metadata": {
    "colab": {},
    "colab_type": "code",
    "id": "TrbSG_Ph4sL9"
   },
   "outputs": [],
   "source": [
    "num2 = num2.toPandas()"
   ]
  },
  {
   "cell_type": "code",
   "execution_count": 109,
   "metadata": {
    "colab": {
     "base_uri": "https://localhost:8080/",
     "height": 34
    },
    "colab_type": "code",
    "id": "9FPT_pz_592d",
    "outputId": "b4abf65e-6d43-4bfc-f100-5106a3a15b08"
   },
   "outputs": [
    {
     "data": {
      "text/plain": [
       "pandas.core.series.Series"
      ]
     },
     "execution_count": 109,
     "metadata": {},
     "output_type": "execute_result"
    }
   ],
   "source": [
    "type(num2['PlayerCount'])"
   ]
  },
  {
   "cell_type": "code",
   "execution_count": 110,
   "metadata": {
    "colab": {
     "base_uri": "https://localhost:8080/",
     "height": 295
    },
    "colab_type": "code",
    "id": "2vYvBEfF6q_9",
    "outputId": "c2aedbd2-ad8a-46f5-f698-476f89e07e21"
   },
   "outputs": [
    {
     "data": {
      "image/png": "[encoded data removed]",
      "text/plain": [
       "<Figure size 432x288 with 1 Axes>"
      ]
     },
     "metadata": {
      "needs_background": "light"
     },
     "output_type": "display_data"
    }
   ],
   "source": [
    "plt.plot(num2['PlayerCount'])\n",
    "plt.xticks(num2['Month'])\n",
    "plt.title(\"Axe Buyer in 2019 Statistics\")\n",
    "plt.xlabel(\"Month\")\n",
    "plt.ylabel(\"Player Count\")\n",
    "plt.show()"
   ]
  },
  {
   "cell_type": "code",
   "execution_count": 115,
   "metadata": {
    "colab": {},
    "colab_type": "code",
    "id": "562qdWXR8us8"
   },
   "outputs": [],
   "source": [
    "num3 = spark.sql(\"\"\"\n",
    "SELECT Item, COUNT(Item) as Frequency\n",
    "FROM(\n",
    "  SELECT PlayerId,\n",
    "    (CASE\n",
    "      WHEN MonthlySpending > 1000000  AND MonthlySpending < 1499999 THEN \"Storm Breaker\"\n",
    "      WHEN MonthlySpending > 1500000 AND MonthlySpending < 1999999 THEN \"Nightfall\"\n",
    "      ELSE \"Extinction\"\n",
    "    END) AS Item\n",
    "  FROM(\n",
    "    SELECT P.PlayerId, P.PlayerGender, MONTH(TransactionDate) as MONTH, SUM(WeaponPrice*Quantity) as MonthlySpending \n",
    "    FROM MsPlayer P\n",
    "    JOIN TransactionHeader TH ON P.PlayerId = TH.PlayerId\n",
    "    JOIN TransactionDetail TD ON TH.TransactionId = TD.TransactionId\n",
    "    JOIN MsWeapon W ON TD.WeaponId = W.WeaponId\n",
    "    WHERE YEAR(Transactiondate) = 2019 AND P.PlayerGender = \"Female\"\n",
    "    GROUP BY P.PlayerId, MONTH(TransactionDate), P.playerGender\n",
    "    ORDER BY MONTH\n",
    "     ) x\n",
    "     WHERE MonthlySpending > 1000000\n",
    "   ) y\n",
    "GROUP BY Item\n",
    "\"\"\")"
   ]
  },
  {
   "cell_type": "code",
   "execution_count": 117,
   "metadata": {},
   "outputs": [],
   "source": [
    " num3 = num3.toPandas()"
   ]
  },
  {
   "cell_type": "code",
   "execution_count": 118,
   "metadata": {
    "colab": {
     "base_uri": "https://localhost:8080/",
     "height": 295
    },
    "colab_type": "code",
    "id": "zyKPLiLxHPBf",
    "outputId": "f77691a7-7edd-4489-e5b3-6396b1592a15"
   },
   "outputs": [
    {
     "data": {
      "image/png": "[encoded data removed]",
      "text/plain": [
       "<Figure size 432x288 with 1 Axes>"
      ]
     },
     "metadata": {
      "needs_background": "light"
     },
     "output_type": "display_data"
    }
   ],
   "source": [
    "plt.bar(num3['Item'], num3['Frequency'])\n",
    "plt.title(\"Frequency of Special Weapon Distributed to Female Player in 2019\")\n",
    "plt.xlabel(\"Weapon Name\")\n",
    "plt.ylabel(\"Frequency\")\n",
    "plt.show()"
   ]
  },
  {
   "cell_type": "code",
   "execution_count": 145,
   "metadata": {
    "colab": {},
    "colab_type": "code",
    "id": "-uG-yBddPxwe"
   },
   "outputs": [],
   "source": [
    "num4 = spark.sql(\"\"\"\n",
    "  SELECT COUNT(Playerid) as PlayerCount, Month\n",
    "  FROM(\n",
    "   SELECT P.PlayerId, MONTH(TransactionDate) as Month, Count(DISTINCT WeaponTypeId) as TypeCount \n",
    "   FROM TransactionHeader TH\n",
    "   JOIN MsPlayer P ON TH.PlayerId = P.PlayerId\n",
    "   JOIN TransactionDetail TD ON TH.TransactionId = TD.TransactionId\n",
    "   JOIN MsWeapon W ON TD.WeaponId = W.WeaponId\n",
    "   WHERE YEAR(TransactionDate) = 2019\n",
    "   GROUP BY P.PlayerId, MONTH(TransactionDate)\n",
    "   ORDER BY TypeCount DESC\n",
    "   )\n",
    "   WHERE TypeCount >= 3\n",
    "   GROUP BY Month\n",
    "   ORDER BY Month       \n",
    "\"\"\")"
   ]
  },
  {
   "cell_type": "code",
   "execution_count": 147,
   "metadata": {},
   "outputs": [],
   "source": [
    "num4 = num4.toPandas()"
   ]
  },
  {
   "cell_type": "code",
   "execution_count": 148,
   "metadata": {
    "colab": {
     "base_uri": "https://localhost:8080/",
     "height": 295
    },
    "colab_type": "code",
    "id": "mg7wxLcCWyWi",
    "outputId": "a85e909f-11fd-46e6-8495-eb316d65d9a3"
   },
   "outputs": [
    {
     "data": {
      "image/png": "[encoded data removed]",
      "text/plain": [
       "<Figure size 432x288 with 1 Axes>"
      ]
     },
     "metadata": {
      "needs_background": "light"
     },
     "output_type": "display_data"
    }
   ],
   "source": [
    "plt.plot(num4['PlayerCount'])\n",
    "plt.xticks(num4['Month'])\n",
    "plt.title(\"Players in 2019 Who Bought At Least 3 Different Weapon Type in a Month\")\n",
    "plt.xlabel(\"Month\")\n",
    "plt.ylabel(\"Player Count\")\n",
    "plt.show()"
   ]
  },
  {
   "cell_type": "code",
   "execution_count": 176,
   "metadata": {
    "colab": {},
    "colab_type": "code",
    "id": "oBN9ozS_e2Oz"
   },
   "outputs": [],
   "source": [
    "num5 = spark.sql(\"\"\"\n",
    "SELECT Top, COUNT(Top) as Frequency\n",
    "FROM(\n",
    "  SELECT NPCId, Income,\n",
    "  (CASE\n",
    "      WHEN Income >= 7500000 AND Income < 14999999 THEN \"Popular\"\n",
    "      WHEN Income >= 2500000 AND Income < 7499999 THEN \"Quite Popular\"\n",
    "      ELSE \"Very Popular\"\n",
    "    END) AS Top\n",
    "  FROM (\n",
    "   SELECT N.NPCId, SUM(WeaponPrice*Quantity) as Income, COUNT(DISTINCT th.PlayerId) as PlayerCount \n",
    "   FROM TransactionHeader TH\n",
    "   JOIN MsPlayer P ON TH.PlayerId = P.PlayerId\n",
    "   JOIN MsNPC N ON TH.NPCId = N.NPCId\n",
    "   JOIN TransactionDetail TD ON TH.TransactionId = TD.TransactionId\n",
    "   JOIN MsWeapon W ON TD.WeaponId = W.WeaponId\n",
    "   GROUP BY N.NPCId\n",
    "   ORDER BY N.NPCId\n",
    "     ) x\n",
    "     \n",
    "   WHERE PlayerCount >= 5 AND Income >= 2500000\n",
    "   GROUP BY NPCId, Income\n",
    "   ORDER BY NPCId  \n",
    ") y\n",
    "\n",
    "GROUP BY Top\n",
    "\n",
    "\"\"\")"
   ]
  },
  {
   "cell_type": "code",
   "execution_count": 178,
   "metadata": {},
   "outputs": [],
   "source": [
    "num5 = num5.toPandas()"
   ]
  },
  {
   "cell_type": "code",
   "execution_count": 179,
   "metadata": {
    "colab": {
     "base_uri": "https://localhost:8080/",
     "height": 295
    },
    "colab_type": "code",
    "id": "CtqtQoDye9ua",
    "outputId": "f6bd8203-a68e-4705-ff7a-d599390e0762"
   },
   "outputs": [
    {
     "data": {
      "image/png": "[encoded data removed]",
      "text/plain": [
       "<Figure size 432x288 with 1 Axes>"
      ]
     },
     "metadata": {
      "needs_background": "light"
     },
     "output_type": "display_data"
    }
   ],
   "source": [
    "plt.bar(num5['Top'], num5['Frequency'])\n",
    "plt.title(\"Frequency of NPC's Popularity\")\n",
    "plt.xlabel(\"Popularity\")\n",
    "plt.ylabel(\"Frequency\")\n",
    "plt.show()"
   ]
  }
 ],
 "metadata": {
  "colab": {
   "collapsed_sections": [],
   "name": "Case 1.ipynb",
   "provenance": []
  },
  "kernelspec": {
   "display_name": "Python 3",
   "language": "python",
   "name": "python3"
  },
  "language_info": {
   "codemirror_mode": {
    "name": "ipython",
    "version": 3
   },
   "file_extension": ".py",
   "mimetype": "text/x-python",
   "name": "python",
   "nbconvert_exporter": "python",
   "pygments_lexer": "ipython3",
   "version": "3.7.6"
  }
 },
 "nbformat": 4,
 "nbformat_minor": 1
}
